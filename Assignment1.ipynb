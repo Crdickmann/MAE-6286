{
 "cells": [
  {
   "cell_type": "code",
   "execution_count": 66,
   "metadata": {},
   "outputs": [],
   "source": [
    "import numpy\n",
    "import math\n",
    "from matplotlib import pyplot\n",
    "%matplotlib inline"
   ]
  },
  {
   "cell_type": "code",
   "execution_count": 106,
   "metadata": {},
   "outputs": [],
   "source": [
    "# Initialize variables\n",
    "m_s = 50   # Weight of rocket shell\n",
    "g = 9.81   # Gravitational constant\n",
    "rho = 1.091   # Density of air throughout flight\n",
    "r = 0.5   # Maximum radius of the rocket\n",
    "A = math.pi*r*r   # Maximum cross sectional area\n",
    "v_e = 325   # Exhaust speed\n",
    "C_D = 0.15   # Drag coefficient\n",
    "m_p0 = 100   # Initial weight of the propellant at t=0\n",
    "dt = 0.1   # Time step of 0.1 seconds"
   ]
  },
  {
   "cell_type": "code",
   "execution_count": 107,
   "metadata": {},
   "outputs": [],
   "source": [
    "# Since we don't know what time the rocket will crash,\n",
    "# I'm going to start by picking final time T=30 and see where that gets us\n",
    "# This was later adjusted to 40 in order to include the impact point\n",
    "T = 40\n",
    "# With and end time I can initialize an array of times\n",
    "t = numpy.arange(0, T+dt, dt)"
   ]
  },
  {
   "cell_type": "code",
   "execution_count": 108,
   "metadata": {},
   "outputs": [],
   "source": [
    "# Initial conditions\n",
    "# Assuming the rocket is starting on the ground and at zero velocity\n",
    "h_0 = 0\n",
    "v_0 = 0"
   ]
  },
  {
   "cell_type": "code",
   "execution_count": 109,
   "metadata": {},
   "outputs": [],
   "source": [
    "# Create arrays to store h and v at each time step\n",
    "h = numpy.zeros(numpy.size(t))\n",
    "v = numpy.zeros(numpy.size(t))\n",
    "h[0] = h_0\n",
    "v[0] = v_0"
   ]
  },
  {
   "cell_type": "code",
   "execution_count": 110,
   "metadata": {},
   "outputs": [],
   "source": [
    "# Find m_dot_p and m_p for all dt\n",
    "m_dot_p = numpy.zeros(numpy.size(t))\n",
    "m_p = numpy.zeros(numpy.size(t))\n",
    "m_p[0] = m_p0\n",
    "\n",
    "# Establish that m_dot_p = 20 when t is less than 5, and is 0 everywhere else\n",
    "for n in range(0, numpy.size(t)):\n",
    "    if t[n] < 5:\n",
    "        m_dot_p[n] = 20\n",
    "    else:\n",
    "        m_dot_p[n] = 0\n",
    "\n",
    "# Multiply m_dot_p by the time interval and subrtact it from the previous m_p\n",
    "# value to get all values of m_p\n",
    "for n in range(0, numpy.size(t)-1):\n",
    "    m_p[n+1] = m_p[n] - (m_dot_p[n] * dt)"
   ]
  },
  {
   "cell_type": "code",
   "execution_count": 111,
   "metadata": {},
   "outputs": [
    {
     "data": {
      "text/plain": [
       "36.0"
      ]
     },
     "execution_count": 111,
     "metadata": {},
     "output_type": "execute_result"
    }
   ],
   "source": [
    "# Find the value of m_p at t=3.2\n",
    "m_p[32]"
   ]
  },
  {
   "cell_type": "code",
   "execution_count": 112,
   "metadata": {},
   "outputs": [],
   "source": [
    "# Now we need to find values for h and v and all times\n",
    "for n in range(0, numpy.size(t)-1):\n",
    "    v[n+1] = v[n] + (dt * (-g + ((1/(m_s + m_p[n])) * ((m_dot_p[n]* v_e) - (0.5* rho * v[n] * abs(v[n]) * A * C_D)))))\n",
    "    h[n+1] = h[n] + (dt * v[n])"
   ]
  },
  {
   "cell_type": "code",
   "execution_count": 140,
   "metadata": {},
   "outputs": [
    {
     "data": {
      "text/plain": [
       "array([ 0.00000000e+00,  0.00000000e+00,  3.35233333e-01,  1.01150706e+00,\n",
       "        2.03468495e+00,  3.41068452e+00,  5.14547367e+00,  7.24506708e+00,\n",
       "        9.71552207e+00,  1.25629343e+01,  1.57934327e+01,  1.94131745e+01,\n",
       "        2.34283390e+01,  2.78451219e+01,  3.26697279e+01,  3.79083639e+01,\n",
       "        4.35672306e+01,  4.96525143e+01,  5.61703779e+01,  6.31269505e+01,\n",
       "        7.05283175e+01,  7.83805089e+01,  8.66894876e+01,  9.54611366e+01,\n",
       "        1.04701245e+02,  1.14415495e+02,  1.24609443e+02,  1.35288510e+02,\n",
       "        1.46457956e+02,  1.58122870e+02,  1.70288146e+02,  1.82958465e+02,\n",
       "        1.96138274e+02,  2.09831762e+02,  2.24042843e+02,  2.38775125e+02,\n",
       "        2.54031891e+02,  2.69816071e+02,  2.86130214e+02,  3.02976463e+02,\n",
       "        3.20356529e+02,  3.38271657e+02,  3.56722598e+02,  3.75709582e+02,\n",
       "        3.95232285e+02,  4.15289797e+02,  4.35880595e+02,  4.57002505e+02,\n",
       "        4.78652678e+02,  5.00827555e+02,  5.23522834e+02,  5.46733448e+02,\n",
       "        5.69153526e+02,  5.90829433e+02,  6.11803347e+02,  6.32113749e+02,\n",
       "        6.51795847e+02,  6.70881937e+02,  6.89401719e+02,  7.07382563e+02,\n",
       "        7.24849756e+02,  7.41826698e+02,  7.58335094e+02,  7.74395110e+02,\n",
       "        7.90025516e+02,  8.05243809e+02,  8.20066330e+02,  8.34508361e+02,\n",
       "        8.48584213e+02,  8.62307308e+02,  8.75690250e+02,  8.88744891e+02,\n",
       "        9.01482385e+02,  9.13913246e+02,  9.26047395e+02,  9.37894198e+02,\n",
       "        9.49462513e+02,  9.60760721e+02,  9.71796761e+02,  9.82578158e+02,\n",
       "        9.93112053e+02,  1.00340523e+03,  1.01346412e+03,  1.02329487e+03,\n",
       "        1.03290330e+03,  1.04229497e+03,  1.05147517e+03,  1.06044896e+03,\n",
       "        1.06922113e+03,  1.07779630e+03,  1.08617886e+03,  1.09437301e+03,\n",
       "        1.10238275e+03,  1.11021193e+03,  1.11786423e+03,  1.12534317e+03,\n",
       "        1.13265211e+03,  1.13979429e+03,  1.14677281e+03,  1.15359063e+03,\n",
       "        1.16025061e+03,  1.16675547e+03,  1.17310786e+03,  1.17931027e+03,\n",
       "        1.18536514e+03,  1.19127479e+03,  1.19704145e+03,  1.20266727e+03,\n",
       "        1.20815431e+03,  1.21350456e+03,  1.21871991e+03,  1.22380220e+03,\n",
       "        1.22875319e+03,  1.23357458e+03,  1.23826798e+03,  1.24283498e+03,\n",
       "        1.24727707e+03,  1.25159569e+03,  1.25579225e+03,  1.25986806e+03,\n",
       "        1.26382443e+03,  1.26766258e+03,  1.27138369e+03,  1.27498891e+03,\n",
       "        1.27847932e+03,  1.28185597e+03,  1.28511987e+03,  1.28827197e+03,\n",
       "        1.29131320e+03,  1.29424445e+03,  1.29706655e+03,  1.29978032e+03,\n",
       "        1.30238652e+03,  1.30488589e+03,  1.30727913e+03,  1.30956691e+03,\n",
       "        1.31174986e+03,  1.31382859e+03,  1.31580366e+03,  1.31767562e+03,\n",
       "        1.31944498e+03,  1.32111221e+03,  1.32267777e+03,  1.32414208e+03,\n",
       "        1.32550553e+03,  1.32676849e+03,  1.32793130e+03,  1.32899428e+03,\n",
       "        1.32995770e+03,  1.33082183e+03,  1.33158690e+03,  1.33225312e+03,\n",
       "        1.33282067e+03,  1.33328970e+03,  1.33366035e+03,  1.33393273e+03,\n",
       "        1.33410691e+03,  1.33418295e+03,  1.33416088e+03,  1.33404071e+03,\n",
       "        1.33382246e+03,  1.33350617e+03,  1.33309192e+03,  1.33257978e+03,\n",
       "        1.33196988e+03,  1.33126235e+03,  1.33045737e+03,  1.32955513e+03,\n",
       "        1.32855583e+03,  1.32745971e+03,  1.32626704e+03,  1.32497809e+03,\n",
       "        1.32359319e+03,  1.32211264e+03,  1.32053682e+03,  1.31886608e+03,\n",
       "        1.31710083e+03,  1.31524149e+03,  1.31328849e+03,  1.31124230e+03,\n",
       "        1.30910338e+03,  1.30687225e+03,  1.30454941e+03,  1.30213541e+03,\n",
       "        1.29963080e+03,  1.29703615e+03,  1.29435206e+03,  1.29157912e+03,\n",
       "        1.28871797e+03,  1.28576924e+03,  1.28273358e+03,  1.27961167e+03,\n",
       "        1.27640419e+03,  1.27311183e+03,  1.26973530e+03,  1.26627533e+03,\n",
       "        1.26273264e+03,  1.25910798e+03,  1.25540211e+03,  1.25161579e+03,\n",
       "        1.24774980e+03,  1.24380492e+03,  1.23978194e+03,  1.23568166e+03,\n",
       "        1.23150489e+03,  1.22725245e+03,  1.22292514e+03,  1.21852381e+03,\n",
       "        1.21404927e+03,  1.20950237e+03,  1.20488393e+03,  1.20019482e+03,\n",
       "        1.19543586e+03,  1.19060792e+03,  1.18571183e+03,  1.18074846e+03,\n",
       "        1.17571865e+03,  1.17062325e+03,  1.16546313e+03,  1.16023913e+03,\n",
       "        1.15495210e+03,  1.14960291e+03,  1.14419239e+03,  1.13872139e+03,\n",
       "        1.13319077e+03,  1.12760136e+03,  1.12195401e+03,  1.11624955e+03,\n",
       "        1.11048881e+03,  1.10467263e+03,  1.09880183e+03,  1.09287723e+03,\n",
       "        1.08689964e+03,  1.08086988e+03,  1.07478875e+03,  1.06865705e+03,\n",
       "        1.06247557e+03,  1.05624511e+03,  1.04996644e+03,  1.04364034e+03,\n",
       "        1.03726758e+03,  1.03084891e+03,  1.02438510e+03,  1.01787689e+03,\n",
       "        1.01132502e+03,  1.00473023e+03,  9.98093235e+02,  9.91414757e+02,\n",
       "        9.84695507e+02,  9.77936187e+02,  9.71137490e+02,  9.64300102e+02,\n",
       "        9.57424703e+02,  9.50511961e+02,  9.43562538e+02,  9.36577089e+02,\n",
       "        9.29556258e+02,  9.22500683e+02,  9.15410991e+02,  9.08287803e+02,\n",
       "        9.01131732e+02,  8.93943380e+02,  8.86723343e+02,  8.79472207e+02,\n",
       "        8.72190552e+02,  8.64878946e+02,  8.57537953e+02,  8.50168124e+02,\n",
       "        8.42770006e+02,  8.35344136e+02,  8.27891041e+02,  8.20411244e+02,\n",
       "        8.12905256e+02,  8.05373582e+02,  7.97816718e+02,  7.90235153e+02,\n",
       "        7.82629367e+02,  7.74999834e+02,  7.67347018e+02,  7.59671376e+02,\n",
       "        7.51973359e+02,  7.44253408e+02,  7.36511958e+02,  7.28749437e+02,\n",
       "        7.20966264e+02,  7.13162852e+02,  7.05339606e+02,  6.97496924e+02,\n",
       "        6.89635199e+02,  6.81754815e+02,  6.73856148e+02,  6.65939570e+02,\n",
       "        6.58005445e+02,  6.50054130e+02,  6.42085976e+02,  6.34101328e+02,\n",
       "        6.26100525e+02,  6.18083897e+02,  6.10051771e+02,  6.02004467e+02,\n",
       "        5.93942298e+02,  5.85865571e+02,  5.77774590e+02,  5.69669649e+02,\n",
       "        5.61551041e+02,  5.53419049e+02,  5.45273953e+02,  5.37116028e+02,\n",
       "        5.28945542e+02,  5.20762759e+02,  5.12567937e+02,  5.04361330e+02,\n",
       "        4.96143186e+02,  4.87913748e+02,  4.79673257e+02,  4.71421944e+02,\n",
       "        4.63160041e+02,  4.54887771e+02,  4.46605355e+02,  4.38313009e+02,\n",
       "        4.30010944e+02,  4.21699368e+02,  4.13378484e+02,  4.05048490e+02,\n",
       "        3.96709583e+02,  3.88361951e+02,  3.80005784e+02,  3.71641264e+02,\n",
       "        3.63268570e+02,  3.54887879e+02,  3.46499362e+02,  3.38103188e+02,\n",
       "        3.29699523e+02,  3.21288528e+02,  3.12870362e+02,  3.04445180e+02,\n",
       "        2.96013133e+02,  2.87574370e+02,  2.79129038e+02,  2.70677278e+02,\n",
       "        2.62219230e+02,  2.53755031e+02,  2.45284815e+02,  2.36808712e+02,\n",
       "        2.28326851e+02,  2.19839358e+02,  2.11346354e+02,  2.02847961e+02,\n",
       "        1.94344296e+02,  1.85835474e+02,  1.77321609e+02,  1.68802810e+02,\n",
       "        1.60279185e+02,  1.51750840e+02,  1.43217879e+02,  1.34680403e+02,\n",
       "        1.26138511e+02,  1.17592299e+02,  1.09041864e+02,  1.00487297e+02,\n",
       "        9.19286886e+01,  8.33661290e+01,  7.47997045e+01,  6.62295003e+01,\n",
       "        5.76555997e+01,  4.90780840e+01,  4.04970330e+01,  3.19125247e+01,\n",
       "        2.33246353e+01,  1.47334394e+01,  6.13901004e+00, -2.45858131e+00,\n",
       "       -1.10592648e+01, -1.96629721e+01, -2.82696363e+01, -3.68791921e+01,\n",
       "       -4.54915754e+01, -5.41067236e+01, -6.27245756e+01, -7.13450714e+01,\n",
       "       -7.99681525e+01, -8.85937615e+01, -9.72218425e+01, -1.05852341e+02,\n",
       "       -1.14485202e+02, -1.23120375e+02, -1.31757807e+02, -1.40397449e+02,\n",
       "       -1.49039251e+02, -1.57683166e+02, -1.66329147e+02, -1.74977147e+02,\n",
       "       -1.83627122e+02, -1.92279028e+02, -2.00932822e+02, -2.09588462e+02,\n",
       "       -2.18245907e+02, -2.26905116e+02, -2.35566051e+02, -2.44228673e+02,\n",
       "       -2.52892944e+02])"
      ]
     },
     "execution_count": 140,
     "metadata": {},
     "output_type": "execute_result"
    }
   ],
   "source": [
    "h"
   ]
  },
  {
   "cell_type": "code",
   "execution_count": 128,
   "metadata": {},
   "outputs": [
    {
     "name": "stdout",
     "output_type": "stream",
     "text": [
      "Maximum Velocity =  232.1061334126179 [m/s]\n",
      "Time at Maximum Velocity =  5.0 [s]\n",
      "Altitude at Maximum Velocity =  523.5228342918476 [m]\n"
     ]
    }
   ],
   "source": [
    "# Find the solutions to Assessment Question 2\n",
    "\n",
    "# Discover the value of the maximum velocity\n",
    "v_max = max(v)\n",
    "print ('Maximum Velocity = ',v_max, '[m/s]')\n",
    "\n",
    "# Discover at what time interval the velocity is maximum\n",
    "for n in range(0,numpy.size(t)-1):\n",
    "    if v[n] == v_max:\n",
    "        t_v_max = n\n",
    "        print('Time at Maximum Velocity = ',t_v_max/10, '[s]')\n",
    "        \n",
    "# Discover the altitude at the time of max velocity\n",
    "h_v_max = h[t_v_max]\n",
    "print('Altitude at Maximum Velocity = ',h_v_max, '[m]')"
   ]
  },
  {
   "cell_type": "code",
   "execution_count": 129,
   "metadata": {},
   "outputs": [
    {
     "name": "stdout",
     "output_type": "stream",
     "text": [
      "Maximum Altitude =  1334.1829454303067 [m]\n",
      "Time at Maximum Altitude =  15.7 [s]\n"
     ]
    }
   ],
   "source": [
    "# Find the solutions to Assessment Question 3\n",
    "\n",
    "# Discover the value of the maximum altitude\n",
    "h_max = max(h)\n",
    "print ('Maximum Altitude = ',h_max, '[m]')\n",
    "\n",
    "# Discover the time at which maximum altitude occurs\n",
    "for n in range(0,numpy.size(t)-1):\n",
    "    if h[n] == h_max:\n",
    "        t_h_max = n\n",
    "        print('Time at Maximum Altitude = ',t_h_max/10, '[s]')"
   ]
  },
  {
   "cell_type": "code",
   "execution_count": 152,
   "metadata": {},
   "outputs": [
    {
     "name": "stdout",
     "output_type": "stream",
     "text": [
      "Time of Impact =  37.0 [s]\n",
      "Velocity at Impact =  -85.9759134803524 [m/s]\n"
     ]
    }
   ],
   "source": [
    "# Find the soutions to Assessment Question 4\n",
    "\n",
    "# Discover when the rocket impacts the ground\n",
    "for n in range(4,numpy.size(t)-1):\n",
    "    if h[n] <= 0:\n",
    "        t_h_impact = n-1\n",
    "        print('Time of Impact = ',t_h_impact/10, '[s]')\n",
    "        break\n",
    "\n",
    "# Discover the Velocity at Time of Impact\n",
    "v_impact = v[t_h_impact]\n",
    "print('Velocity at Impact = ',v_impact, '[m/s]')\n",
    "        "
   ]
  },
  {
   "cell_type": "code",
   "execution_count": 117,
   "metadata": {},
   "outputs": [
    {
     "data": {
      "text/plain": [
       "Text(0,0.5,'Velocity [m/s]')"
      ]
     },
     "execution_count": 117,
     "metadata": {},
     "output_type": "execute_result"
    },
    {
     "data": {
      "image/png": "[encoded data removed]",
      "text/plain": [
       "<Figure size 432x288 with 1 Axes>"
      ]
     },
     "metadata": {},
     "output_type": "display_data"
    }
   ],
   "source": [
    "pyplot.plot(t, v);\n",
    "pyplot.grid()\n",
    "pyplot.title('Velocity over time')\n",
    "pyplot.xlabel('Time [s]')\n",
    "pyplot.ylabel('Velocity [m/s]')"
   ]
  },
  {
   "cell_type": "code",
   "execution_count": 118,
   "metadata": {},
   "outputs": [
    {
     "data": {
      "text/plain": [
       "Text(0,0.5,'Altitude [m]')"
      ]
     },
     "execution_count": 118,
     "metadata": {},
     "output_type": "execute_result"
    },
    {
     "data": {
      "image/png": "[encoded data removed]",
      "text/plain": [
       "<Figure size 432x288 with 1 Axes>"
      ]
     },
     "metadata": {},
     "output_type": "display_data"
    }
   ],
   "source": [
    "pyplot.plot(t, h);\n",
    "pyplot.grid()\n",
    "pyplot.title('Altitude over time')\n",
    "pyplot.xlabel('Time [s]')\n",
    "pyplot.ylabel('Altitude [m]')"
   ]
  },
  {
   "cell_type": "code",
   "execution_count": 144,
   "metadata": {},
   "outputs": [
    {
     "data": {
      "text/plain": [
       "2.4585813061592443"
      ]
     },
     "execution_count": 144,
     "metadata": {},
     "output_type": "execute_result"
    }
   ],
   "source": [
    "min(abs(h[20:]))"
   ]
  },
  {
   "cell_type": "code",
   "execution_count": 148,
   "metadata": {},
   "outputs": [
    {
     "data": {
      "text/plain": [
       "1"
      ]
     },
     "execution_count": 148,
     "metadata": {},
     "output_type": "execute_result"
    }
   ],
   "source": [
    "t_h_impact"
   ]
  },
  {
   "cell_type": "code",
   "execution_count": null,
   "metadata": {},
   "outputs": [],
   "source": []
  }
 ],
 "metadata": {
  "kernelspec": {
   "display_name": "Python 3",
   "language": "python",
   "name": "python3"
  },
  "language_info": {
   "codemirror_mode": {
    "name": "ipython",
    "version": 3
   },
   "file_extension": ".py",
   "mimetype": "text/x-python",
   "name": "python",
   "nbconvert_exporter": "python",
   "pygments_lexer": "ipython3",
   "version": "3.6.2"
  }
 },
 "nbformat": 4,
 "nbformat_minor": 2
}
