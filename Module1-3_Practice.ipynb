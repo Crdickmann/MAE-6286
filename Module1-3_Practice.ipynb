{
 "cells": [
  {
   "cell_type": "code",
   "execution_count": 25,
   "metadata": {},
   "outputs": [],
   "source": [
    "%matplotlib inline\n",
    "import numpy\n",
    "from matplotlib import pyplot"
   ]
  },
  {
   "cell_type": "code",
   "execution_count": 2,
   "metadata": {},
   "outputs": [],
   "source": [
    "# gravity acceleration; unit: m/s^2\n",
    "g = 9.81\n",
    "\n",
    "# drag coefficient; dimensionless\n",
    "CD = (1.0/40.0)\n",
    "\n",
    "# drag coefficient; dimensionless\n",
    "CL = 1.0\n",
    "\n",
    "# trim velocity; unit: m / s\n",
    "vt = 30\n"
   ]
  },
  {
   "cell_type": "code",
   "execution_count": 4,
   "metadata": {},
   "outputs": [],
   "source": [
    "# the square of the trim velocity; do not assign value directly;\n",
    "vt2 = vt * vt"
   ]
  },
  {
   "cell_type": "code",
   "execution_count": 14,
   "metadata": {},
   "outputs": [],
   "source": [
    "v0 = vt\n",
    "theta0 = 0\n",
    "x0 = 0\n",
    "y0 = 1000"
   ]
  },
  {
   "cell_type": "code",
   "execution_count": 8,
   "metadata": {},
   "outputs": [],
   "source": [
    "T = 100\n",
    "dt = 0.1\n",
    "N = int(T/dt) + 1"
   ]
  },
  {
   "cell_type": "code",
   "execution_count": 18,
   "metadata": {},
   "outputs": [],
   "source": [
    "u = numpy.zeros((N,4))"
   ]
  },
  {
   "cell_type": "code",
   "execution_count": 19,
   "metadata": {},
   "outputs": [],
   "source": [
    "u[0,0] = v0\n",
    "u[0,1] = theta0\n",
    "u[0,2] = x0\n",
    "u[0,3] = y0"
   ]
  },
  {
   "cell_type": "code",
   "execution_count": 22,
   "metadata": {},
   "outputs": [],
   "source": [
    "for n in range(0, N-1):\n",
    "    v_n = -g * numpy.sin(u[n,1]) - (CD/CL)*(g/vt2)*((u[n,0])**2)\n",
    "    theta_n = -(g/u[n,0])*numpy.cos(u[n,1]) + (g/vt2)*(u[n,0])\n",
    "    x_n = (u[n,0])*numpy.cos(u[n,1])\n",
    "    y_n = (u[n,0])*numpy.sin(u[n,1])\n",
    "    f_n = numpy.array([v_n, theta_n, x_n, y_n])\n",
    "    u[n+1] = u[n] + (dt * f_n)"
   ]
  },
  {
   "cell_type": "code",
   "execution_count": 27,
   "metadata": {},
   "outputs": [
    {
     "data": {
      "text/plain": [
       "Text(0,0.5,'y')"
      ]
     },
     "execution_count": 27,
     "metadata": {},
     "output_type": "execute_result"
    },
    {
     "data": {
      "image/png": "[encoded data removed]",
      "text/plain": [
       "<Figure size 432x288 with 1 Axes>"
      ]
     },
     "metadata": {},
     "output_type": "display_data"
    }
   ],
   "source": [
    "pyplot.plot(u[:,2], u[:,3]);\n",
    "pyplot.grid()\n",
    "pyplot.xlabel('x')\n",
    "pyplot.ylabel('y')"
   ]
  },
  {
   "cell_type": "markdown",
   "metadata": {},
   "source": [
    "# Part B"
   ]
  },
  {
   "cell_type": "code",
   "execution_count": 35,
   "metadata": {},
   "outputs": [],
   "source": [
    "r = 2.0\n",
    "\n",
    "# time steps\n",
    "dt_coarsest = 0.1\n",
    "dt_medium = dt_coarsest / r\n",
    "dt_finest = dt_medium / r\n",
    "\n",
    "# N for different time step sizes\n",
    "N_coarsest = int(T/dt_coarsest) + 1\n",
    "N_medium = int(T/dt_medium) + 1\n",
    "N_finest = int(T/dt_finest) + 1\n",
    "\n",
    "# initial u arrays holding variables to all time points\n",
    "u_coarsest = numpy.zeros((N_coarsest,4))\n",
    "u_medium = numpy.zeros((N_medium,4))\n",
    "u_finest = numpy.zeros((N_finest,4))\n",
    "\n",
    "# assign initial conditions to correct locations in u_coarsest, u_medium, and u_finest\n",
    "u_coarsest[0,0] = v0\n",
    "u_coarsest[0,1] = theta0\n",
    "u_coarsest[0,2] = x0\n",
    "u_coarsest[0,3] = y0\n",
    "\n",
    "u_medium[0,0] = v0\n",
    "u_medium[0,1] = theta0\n",
    "u_medium[0,2] = x0\n",
    "u_medium[0,3] = y0\n",
    "\n",
    "u_finest[0,0] = v0\n",
    "u_finest[0,1] = theta0\n",
    "u_finest[0,2] = x0\n",
    "u_finest[0,3] = y0\n",
    "\n",
    "# iteration through Euler method for dt_coarsest\n",
    "for n in range(0, N_coarsest-1):\n",
    "    v_n_coarsest = -g * numpy.sin(u_coarsest[n,1]) - (CD/CL)*(g/vt2)*((u_coarsest[n,0])**2)\n",
    "    theta_n_coarsest = -(g/u_coarsest[n,0])*numpy.cos(u_coarsest[n,1]) + (g/vt2)*(u_coarsest[n,0])\n",
    "    x_n_coarsest = (u_coarsest[n,0])*numpy.cos(u_coarsest[n,1])\n",
    "    y_n_coarsest = (u_coarsest[n,0])*numpy.sin(u_coarsest[n,1])\n",
    "    f_n_coarsest = numpy.array([v_n_coarsest, theta_n_coarsest, x_n_coarsest, y_n_coarsest])\n",
    "    u_coarsest[n+1] = u_coarsest[n] + (dt_coarsest * f_n_coarsest)\n",
    "    \n",
    "# iteration through Euler method for dt_medium\n",
    "for n in range(0, N_medium-1):\n",
    "    v_n_medium = -g * numpy.sin(u_medium[n,1]) - (CD/CL)*(g/vt2)*((u_medium[n,0])**2)\n",
    "    theta_n_medium = -(g/u_medium[n,0])*numpy.cos(u_medium[n,1]) + (g/vt2)*(u_medium[n,0])\n",
    "    x_n_medium = (u_medium[n,0])*numpy.cos(u_medium[n,1])\n",
    "    y_n_medium = (u_medium[n,0])*numpy.sin(u_medium[n,1])\n",
    "    f_n_medium = numpy.array([v_n_medium, theta_n_medium, x_n_medium, y_n_medium])\n",
    "    u_medium[n+1] = u_medium[n] + (dt_medium * f_n_medium)\n",
    "\n",
    "# iteration through Euler method for dt_finest\n",
    "for n in range(0, N_finest-1):\n",
    "    v_n_finest = -g * numpy.sin(u_finest[n,1]) - (CD/CL)*(g/vt2)*((u_finest[n,0])**2)\n",
    "    theta_n_finest = -(g/u_finest[n,0])*numpy.cos(u_finest[n,1]) + (g/vt2)*(u_finest[n,0])\n",
    "    x_n_finest = (u_finest[n,0])*numpy.cos(u_finest[n,1])\n",
    "    y_n_finest = (u_finest[n,0])*numpy.sin(u_finest[n,1])\n",
    "    f_n_finest = numpy.array([v_n_finest, theta_n_finest, x_n_finest, y_n_finest])\n",
    "    u_finest[n+1] = u_finest[n] + (dt_finest * f_n_finest)"
   ]
  },
  {
   "cell_type": "code",
   "execution_count": 36,
   "metadata": {},
   "outputs": [
    {
     "data": {
      "text/plain": [
       "Text(0,0.5,'y')"
      ]
     },
     "execution_count": 36,
     "metadata": {},
     "output_type": "execute_result"
    },
    {
     "data": {
      "image/png": "[encoded data removed]",
      "text/plain": [
       "<Figure size 432x288 with 1 Axes>"
      ]
     },
     "metadata": {},
     "output_type": "display_data"
    }
   ],
   "source": [
    "pyplot.plot(u_coarsest[:,2], u_coarsest[:,3])\n",
    "pyplot.plot(u_medium[:,2], u_medium[:,3])\n",
    "pyplot.plot(u_finest[:,2], u_finest[:,3])\n",
    "pyplot.grid()\n",
    "pyplot.xlabel('x')\n",
    "pyplot.ylabel('y')"
   ]
  },
  {
   "cell_type": "code",
   "execution_count": 37,
   "metadata": {},
   "outputs": [],
   "source": [
    "f32 = 0"
   ]
  },
  {
   "cell_type": "code",
   "execution_count": 38,
   "metadata": {},
   "outputs": [],
   "source": [
    "for n in range(N_coarsest):\n",
    "    f32 = f32 + numpy.abs(u_coarsest[n, 0] - u_medium[2*n, 0])\n",
    "    f32 = f32 + numpy.abs(u_coarsest[n, 1] - u_medium[2*n, 1])\n",
    "    f32 = f32 + numpy.abs(u_coarsest[n, 2] - u_medium[2*n, 2])\n",
    "    f32 = f32 + numpy.abs(u_coarsest[n, 3] - u_medium[2*n, 3])"
   ]
  },
  {
   "cell_type": "code",
   "execution_count": 39,
   "metadata": {},
   "outputs": [],
   "source": [
    "f21 = 0"
   ]
  },
  {
   "cell_type": "code",
   "execution_count": 40,
   "metadata": {},
   "outputs": [],
   "source": [
    "for n in range(N_medium-1):\n",
    "    f21 = f21 + numpy.abs(u_medium[n, 0] - u_finest[2*n, 0])\n",
    "    f21 = f21 + numpy.abs(u_medium[n, 1] - u_finest[2*n, 1])\n",
    "    f21 = f21 + numpy.abs(u_medium[n, 2] - u_finest[2*n, 2])\n",
    "    f21 = f21 + numpy.abs(u_medium[n, 3] - u_finest[2*n, 3])"
   ]
  },
  {
   "cell_type": "code",
   "execution_count": 41,
   "metadata": {},
   "outputs": [],
   "source": [
    "f32 = f32 * dt_medium"
   ]
  },
  {
   "cell_type": "code",
   "execution_count": 42,
   "metadata": {},
   "outputs": [],
   "source": [
    "p = numpy.log10(f32/f21) / numpy.log10(r)"
   ]
  },
  {
   "cell_type": "code",
   "execution_count": 43,
   "metadata": {},
   "outputs": [
    {
     "name": "stdout",
     "output_type": "stream",
     "text": [
      "-3.9467803928491767\n"
     ]
    }
   ],
   "source": [
    "print(p)"
   ]
  },
  {
   "cell_type": "code",
   "execution_count": null,
   "metadata": {},
   "outputs": [],
   "source": []
  }
 ],
 "metadata": {
  "kernelspec": {
   "display_name": "Python 3",
   "language": "python",
   "name": "python3"
  },
  "language_info": {
   "codemirror_mode": {
    "name": "ipython",
    "version": 3
   },
   "file_extension": ".py",
   "mimetype": "text/x-python",
   "name": "python",
   "nbconvert_exporter": "python",
   "pygments_lexer": "ipython3",
   "version": "3.6.2"
  }
 },
 "nbformat": 4,
 "nbformat_minor": 2
}
