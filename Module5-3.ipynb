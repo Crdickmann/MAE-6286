{
 "cells": [
  {
   "cell_type": "code",
   "execution_count": 1,
   "metadata": {},
   "outputs": [],
   "source": [
    "import numpy\n",
    "from matplotlib import pyplot\n",
    "%matplotlib inline"
   ]
  },
  {
   "cell_type": "code",
   "execution_count": 3,
   "metadata": {},
   "outputs": [],
   "source": [
    "# Set parameters.\n",
    "nx = 128  # number of points in the x direction\n",
    "ny = 128  # number of points in the y direction\n",
    "Lx = 5.0  # domain length in the x direction\n",
    "Ly = 5.0  # domain length in the y direction\n",
    "dx = Lx / (nx - 1)  # grid spacing in x direction\n",
    "dy = Ly / (ny - 1)  # grid spacing in y direction\n",
    "\n",
    "# Create the gridline locations.\n",
    "x = numpy.linspace(0.0, Lx, num=nx)\n",
    "y = numpy.linspace(0.0, Ly, num=ny)\n",
    "\n",
    "# Set the initial conditions.\n",
    "p0 = numpy.zeros((ny, nx))\n",
    "p0[-1, :] = numpy.sin(1.5 * numpy.pi * x / Lx)"
   ]
  },
  {
   "cell_type": "code",
   "execution_count": 6,
   "metadata": {},
   "outputs": [],
   "source": [
    "def laplace_2d_jacobi(p0, maxiter=20000, rtol=1e-6):\n",
    "    p = p0.copy()\n",
    "    diff = rtol + 1.0  # initial difference\n",
    "    ite = 0  # iteration index\n",
    "    while diff > rtol and ite < maxiter:\n",
    "        pn = p.copy()\n",
    "        # Update the solution at interior points.\n",
    "        p[1:-1, 1:-1] = 0.25 * (pn[1:-1, :-2] + pn[1:-1, 2:] +\n",
    "                                pn[:-2, 1:-1] + pn[2:, 1:-1])\n",
    "        # Apply 2nd-order Neumann condition (zero-gradient)\n",
    "        # at the right boundary.\n",
    "        p[1:-1, -1] = 0.25 * (2.0 * pn[1:-1, -2] +\n",
    "                              pn[2:, -1] + pn[:-2, -1])\n",
    "        # Compute the relative L2-norm of the difference.\n",
    "        diff = numpy.linalg.norm(p, pn)\n",
    "        ite += 1\n",
    "    return p, ite, diff"
   ]
  },
  {
   "cell_type": "code",
   "execution_count": 7,
   "metadata": {},
   "outputs": [
    {
     "name": "stderr",
     "output_type": "stream",
     "text": [
      "/opt/conda/lib/python3.7/site-packages/numpy/linalg/linalg.py:2352: FutureWarning: elementwise comparison failed; returning scalar instead, but in the future will perform elementwise comparison\n",
      "  (ord in ('f', 'fro') and ndim == 2) or\n"
     ]
    },
    {
     "ename": "ValueError",
     "evalue": "The truth value of an array with more than one element is ambiguous. Use a.any() or a.all()",
     "output_type": "error",
     "traceback": [
      "\u001b[0;31m---------------------------------------------------------------------------\u001b[0m",
      "\u001b[0;31mValueError\u001b[0m                                Traceback (most recent call last)",
      "\u001b[0;32m<ipython-input-7-df39f158093e>\u001b[0m in \u001b[0;36m<module>\u001b[0;34m\u001b[0m\n\u001b[1;32m      1\u001b[0m \u001b[0;31m# Compute the solution using Jacobi relaxation method.\u001b[0m\u001b[0;34m\u001b[0m\u001b[0;34m\u001b[0m\u001b[0;34m\u001b[0m\u001b[0m\n\u001b[0;32m----> 2\u001b[0;31m \u001b[0mp\u001b[0m\u001b[0;34m,\u001b[0m \u001b[0mites\u001b[0m\u001b[0;34m,\u001b[0m \u001b[0mdiff\u001b[0m \u001b[0;34m=\u001b[0m \u001b[0mlaplace_2d_jacobi\u001b[0m\u001b[0;34m(\u001b[0m\u001b[0mp0\u001b[0m\u001b[0;34m,\u001b[0m \u001b[0mmaxiter\u001b[0m\u001b[0;34m=\u001b[0m\u001b[0;36m20000\u001b[0m\u001b[0;34m,\u001b[0m \u001b[0mrtol\u001b[0m\u001b[0;34m=\u001b[0m\u001b[0;36m1e-8\u001b[0m\u001b[0;34m)\u001b[0m\u001b[0;34m\u001b[0m\u001b[0;34m\u001b[0m\u001b[0m\n\u001b[0m\u001b[1;32m      3\u001b[0m print('Jacobi relaxation: {} iterations '.format(ites) +\n\u001b[1;32m      4\u001b[0m       'to reach a relative difference of {}'.format(diff))\n",
      "\u001b[0;32m<ipython-input-6-3c580c37d454>\u001b[0m in \u001b[0;36mlaplace_2d_jacobi\u001b[0;34m(p0, maxiter, rtol)\u001b[0m\n\u001b[1;32m     13\u001b[0m                               pn[2:, -1] + pn[:-2, -1])\n\u001b[1;32m     14\u001b[0m         \u001b[0;31m# Compute the relative L2-norm of the difference.\u001b[0m\u001b[0;34m\u001b[0m\u001b[0;34m\u001b[0m\u001b[0;34m\u001b[0m\u001b[0m\n\u001b[0;32m---> 15\u001b[0;31m         \u001b[0mdiff\u001b[0m \u001b[0;34m=\u001b[0m \u001b[0mnumpy\u001b[0m\u001b[0;34m.\u001b[0m\u001b[0mlinalg\u001b[0m\u001b[0;34m.\u001b[0m\u001b[0mnorm\u001b[0m\u001b[0;34m(\u001b[0m\u001b[0mp\u001b[0m\u001b[0;34m,\u001b[0m \u001b[0mpn\u001b[0m\u001b[0;34m)\u001b[0m\u001b[0;34m\u001b[0m\u001b[0;34m\u001b[0m\u001b[0m\n\u001b[0m\u001b[1;32m     16\u001b[0m         \u001b[0mite\u001b[0m \u001b[0;34m+=\u001b[0m \u001b[0;36m1\u001b[0m\u001b[0;34m\u001b[0m\u001b[0;34m\u001b[0m\u001b[0m\n\u001b[1;32m     17\u001b[0m     \u001b[0;32mreturn\u001b[0m \u001b[0mp\u001b[0m\u001b[0;34m,\u001b[0m \u001b[0mite\u001b[0m\u001b[0;34m,\u001b[0m \u001b[0mdiff\u001b[0m\u001b[0;34m\u001b[0m\u001b[0;34m\u001b[0m\u001b[0m\n",
      "\u001b[0;32m/opt/conda/lib/python3.7/site-packages/numpy/linalg/linalg.py\u001b[0m in \u001b[0;36mnorm\u001b[0;34m(x, ord, axis, keepdims)\u001b[0m\n\u001b[1;32m   2351\u001b[0m         if ((ord is None) or\n\u001b[1;32m   2352\u001b[0m             \u001b[0;34m(\u001b[0m\u001b[0mord\u001b[0m \u001b[0;32min\u001b[0m \u001b[0;34m(\u001b[0m\u001b[0;34m'f'\u001b[0m\u001b[0;34m,\u001b[0m \u001b[0;34m'fro'\u001b[0m\u001b[0;34m)\u001b[0m \u001b[0;32mand\u001b[0m \u001b[0mndim\u001b[0m \u001b[0;34m==\u001b[0m \u001b[0;36m2\u001b[0m\u001b[0;34m)\u001b[0m \u001b[0;32mor\u001b[0m\u001b[0;34m\u001b[0m\u001b[0;34m\u001b[0m\u001b[0m\n\u001b[0;32m-> 2353\u001b[0;31m             (ord == 2 and ndim == 1)):\n\u001b[0m\u001b[1;32m   2354\u001b[0m \u001b[0;34m\u001b[0m\u001b[0m\n\u001b[1;32m   2355\u001b[0m             \u001b[0mx\u001b[0m \u001b[0;34m=\u001b[0m \u001b[0mx\u001b[0m\u001b[0;34m.\u001b[0m\u001b[0mravel\u001b[0m\u001b[0;34m(\u001b[0m\u001b[0morder\u001b[0m\u001b[0;34m=\u001b[0m\u001b[0;34m'K'\u001b[0m\u001b[0;34m)\u001b[0m\u001b[0;34m\u001b[0m\u001b[0;34m\u001b[0m\u001b[0m\n",
      "\u001b[0;31mValueError\u001b[0m: The truth value of an array with more than one element is ambiguous. Use a.any() or a.all()"
     ]
    }
   ],
   "source": [
    "# Compute the solution using Jacobi relaxation method.\n",
    "p, ites, diff = laplace_2d_jacobi(p0, maxiter=20000, rtol=1e-8)\n",
    "print('Jacobi relaxation: {} iterations '.format(ites) +\n",
    "      'to reach a relative difference of {}'.format(diff))"
   ]
  },
  {
   "cell_type": "code",
   "execution_count": null,
   "metadata": {},
   "outputs": [],
   "source": []
  }
 ],
 "metadata": {
  "kernelspec": {
   "display_name": "Python 3",
   "language": "python",
   "name": "python3"
  },
  "language_info": {
   "codemirror_mode": {
    "name": "ipython",
    "version": 3
   },
   "file_extension": ".py",
   "mimetype": "text/x-python",
   "name": "python",
   "nbconvert_exporter": "python",
   "pygments_lexer": "ipython3",
   "version": "3.7.3"
  }
 },
 "nbformat": 4,
 "nbformat_minor": 2
}
