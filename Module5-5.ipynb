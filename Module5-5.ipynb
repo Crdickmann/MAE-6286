{
 "cells": [
  {
   "cell_type": "code",
   "execution_count": 3,
   "metadata": {},
   "outputs": [],
   "source": [
    "import numpy\n",
    "from matplotlib import pyplot\n",
    "%matplotlib inline\n",
    "from helper import *"
   ]
  },
  {
   "cell_type": "code",
   "execution_count": 4,
   "metadata": {},
   "outputs": [],
   "source": [
    "# Parameters\n",
    "nx = 101\n",
    "ny = 101\n",
    "xmin, xmax = 0.0, 1.0\n",
    "ymin, ymax = -0.5, 0.5\n",
    "Lx = xmax - xmin\n",
    "Ly = ymax - ymin\n",
    "dx = Lx / (nx - 1)\n",
    "dy = Ly / (ny - 1)\n",
    "\n",
    "x = numpy.linspace(xmin, xmax, num=nx)\n",
    "y = numpy.linspace(ymin, ymax, num=ny)\n",
    "X, Y = numpy.meshgrid(x, y)\n",
    "\n",
    "b = (-2.0 * (numpy.pi / Lx) * (numpy.pi / Ly) *\n",
    "    numpy.sin(numpy.pi * X/Lx) *\n",
    "    numpy.cos(numpy.pi * Y/Ly))\n",
    "\n",
    "p0 = numpy.zeros((ny,nx))\n",
    "\n",
    "p_exact = poisson_solution(x, y, Lx, Ly)"
   ]
  },
  {
   "cell_type": "code",
   "execution_count": 11,
   "metadata": {},
   "outputs": [],
   "source": [
    "def poisson_2d_steepest_descent(p0, b, dx, dy, maxiter=20000, rtol=1e-6):\n",
    "    \n",
    "    def A(p):\n",
    "        return((p[1:-1, :-2] - 2 * p[1:-1, 1:-1] + p[1:-1, 2:]) / dx**2 +\n",
    "               (p[:-2, 1:-1] - 2 * p[1:-1, 1:-1] + p[2:, 1:-1]) / dy**2)\n",
    "    \n",
    "    p = p0.copy()\n",
    "    diff = rtol + 1\n",
    "    ite = 0\n",
    "    rk = numpy.zeros_like(p)\n",
    "    Ar = numpy.zeros_like(p)\n",
    "    while diff > rtol and ite < maxiter:\n",
    "        pk = p.copy()\n",
    "        # Compute residual rk\n",
    "        rk[1:-1, 1:-1] = b[1:-1, 1:-1] - A(pk)\n",
    "        # Compute sstep size alpha\n",
    "        Ar[1:-1, 1:-1] = A(rk)\n",
    "        alpha = numpy.sum(rk * rk) / numpy.sum(rk * Ar)\n",
    "        # Update Solution\n",
    "        p = pk + alpha * rk\n",
    "        # Compute relative difference\n",
    "        diff = l2_norm(p, pk)\n",
    "        # Increment interation index\n",
    "        ite += 1\n",
    "    return p, ite, diff"
   ]
  },
  {
   "cell_type": "code",
   "execution_count": 12,
   "metadata": {},
   "outputs": [
    {
     "name": "stdout",
     "output_type": "stream",
     "text": [
      "2 1.2374874917997386e-16\n"
     ]
    }
   ],
   "source": [
    "p, ites, diff = poisson_2d_steepest_descent(p0, b, dx, dy, rtol=1e-10)\n",
    "print(ites, diff)"
   ]
  },
  {
   "cell_type": "code",
   "execution_count": 13,
   "metadata": {},
   "outputs": [],
   "source": [
    "def poisson_2d_conjugate_gradient(p0, b, dx, dy, maxiter=20000, rtol=1e-6):\n",
    "    def A(p):\n",
    "        # Apply the Laplacian operator to p.\n",
    "        return (-4.0 * p[1:-1, 1:-1] +\n",
    "                p[1:-1, :-2] + p[1:-1, 2:] +\n",
    "                p[:-2, 1:-1] + p[2:, 1:-1]) / dx**2\n",
    "    p = p0.copy()\n",
    "    r = numpy.zeros_like(p)  # initial residual\n",
    "    Ad = numpy.zeros_like(p)  # to store the mat-vec multiplication\n",
    "    conv = []  # convergence history\n",
    "    diff = rtol + 1  # initial difference\n",
    "    ite = 0  # iteration index\n",
    "    # Compute the initial residual.\n",
    "    r[1:-1, 1:-1] = b[1:-1, 1:-1] - A(p)\n",
    "    # Set the initial search direction to be the residual.\n",
    "    d = r.copy()\n",
    "    while diff > rtol and ite < maxiter:\n",
    "        pk = p.copy()\n",
    "        rk = r.copy()\n",
    "        # Compute the Laplacian of the search direction.\n",
    "        Ad[1:-1, 1:-1] = A(d)\n",
    "        # Compute the step size.\n",
    "        alpha = numpy.sum(r * r) / numpy.sum(d * Ad)\n",
    "        # Update the solution.\n",
    "        p = pk + alpha * d\n",
    "        # Update the residual.\n",
    "        r = rk - alpha * Ad\n",
    "        # Update the search direction.\n",
    "        beta = numpy.sum(r * r) / numpy.sum(rk * rk)\n",
    "        d = r + beta * d\n",
    "        # Dirichlet boundary conditions are automatically enforced.\n",
    "        # Compute the relative L2-norm of the difference.\n",
    "        diff = l2_norm(p, pk)\n",
    "        conv.append(diff)\n",
    "        ite += 1\n",
    "    return p, ite, conv"
   ]
  },
  {
   "cell_type": "code",
   "execution_count": 15,
   "metadata": {},
   "outputs": [
    {
     "name": "stdout",
     "output_type": "stream",
     "text": [
      "2 [50.00411253811046, 1.2982770796281907e-16]\n"
     ]
    }
   ],
   "source": [
    "p, ites, diff = poisson_2d_conjugate_gradient(p0, b, dx, dy, rtol=1e-10)\n",
    "print(ites, diff)"
   ]
  },
  {
   "cell_type": "code",
   "execution_count": 17,
   "metadata": {},
   "outputs": [],
   "source": [
    "b_2 = numpy.sin(numpy.pi * X/Lx) * numpy.cos(numpy.pi * Y/Ly) + numpy.sin(6 * numpy.pi * X/Lx) * numpy.cos(6 * numpy.pi * Y/Ly)"
   ]
  },
  {
   "cell_type": "code",
   "execution_count": 18,
   "metadata": {},
   "outputs": [
    {
     "name": "stdout",
     "output_type": "stream",
     "text": [
      "72 [0.12584130302048865, 0.2912135795524052, 0.19407476010995225, 0.22294206875515055, 0.2965501736991706, 0.3772086938710332, 0.42230864896759046, 0.41054589306069184, 0.35483717922632146, 0.281899799626527, 0.21223685985929855, 0.1551947071493214, 0.11218169760411277, 0.08100101323275162, 0.0586503065427288, 0.04253877488306884, 0.030786896506805838, 0.022142087436103942, 0.015787919297661424, 0.011152726113515945, 0.007481480491069978, 0.003266791726113501, 0.004079286984340981, 0.0034860288633472036, 0.0017435772781646236, 0.0017163080748343752, 0.001729632378582507, 0.0008995005048227992, 0.0009970787962938273, 0.0009642871832898381, 0.0005199651506665473, 0.0007325728292953766, 0.000579801113330843, 0.00043111600295923827, 0.0005771954897007731, 0.00035467363067683715, 0.00044359304713516057, 0.00040128370319751796, 0.00027831070765771973, 0.00035788382853340635, 0.00021164630276973462, 0.00024095193028036854, 0.00018359395985722226, 0.0001346114081130485, 0.00013951838109077863, 7.764828055074928e-05, 8.918666811407417e-05, 5.5147410775935435e-05, 5.003942475273364e-05, 4.0916315657645495e-05, 2.7564350587409983e-05, 2.9705081907833893e-05, 1.7662815305764204e-05, 2.0688716438890533e-05, 1.4576714227339774e-05, 1.5107336176507252e-05, 1.474581929201402e-05, 1.324690232925445e-05, 1.7929665858564955e-05, 1.593018313512289e-05, 2.7780769506509194e-05, 2.6689441687705858e-05, 2.6797967654761977e-05, 7.434473218543497e-06, 1.981066783779291e-06, 3.295441090015399e-07, 1.1485401776014126e-07, 1.905725904151981e-08, 5.158588100068356e-09, 1.1665496281697836e-09, 1.5655332147525638e-10, 3.5192313428112154e-11]\n"
     ]
    }
   ],
   "source": [
    "p,ites, diff = poisson_2d_conjugate_gradient(p0, b_2, dx, dy, rtol=1e-10)\n",
    "print(ites, diff)"
   ]
  },
  {
   "cell_type": "code",
   "execution_count": 20,
   "metadata": {},
   "outputs": [
    {
     "name": "stdout",
     "output_type": "stream",
     "text": [
      "20000 3.282250263427408e-08\n"
     ]
    }
   ],
   "source": [
    "p,ites, diff = poisson_2d_steepest_descent(p0, b_2, dx, dy, rtol=1e-10)\n",
    "print(ites, diff)"
   ]
  },
  {
   "cell_type": "code",
   "execution_count": null,
   "metadata": {},
   "outputs": [],
   "source": []
  }
 ],
 "metadata": {
  "kernelspec": {
   "display_name": "Python 3",
   "language": "python",
   "name": "python3"
  },
  "language_info": {
   "codemirror_mode": {
    "name": "ipython",
    "version": 3
   },
   "file_extension": ".py",
   "mimetype": "text/x-python",
   "name": "python",
   "nbconvert_exporter": "python",
   "pygments_lexer": "ipython3",
   "version": "3.7.3"
  }
 },
 "nbformat": 4,
 "nbformat_minor": 2
}
