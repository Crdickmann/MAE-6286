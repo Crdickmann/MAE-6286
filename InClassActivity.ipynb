{
 "cells": [
  {
   "cell_type": "code",
   "execution_count": 1,
   "metadata": {},
   "outputs": [],
   "source": [
    "import numpy\n",
    "from matplotlib import pyplot\n",
    "%matplotlib inline"
   ]
  },
  {
   "cell_type": "code",
   "execution_count": 35,
   "metadata": {},
   "outputs": [],
   "source": [
    "def ic(x,x_L,rho_L):\n",
    "    for i in range(nx):\n",
    "        if x[i] < x_L:\n",
    "            rho0[i] = (rho_L*x[i])/x_L\n",
    "        else:\n",
    "            rho0[i] = 0\n",
    "    return rho0"
   ]
  },
  {
   "cell_type": "code",
   "execution_count": 36,
   "metadata": {},
   "outputs": [],
   "source": [
    "def velocity(rho_max, u_max, rho):\n",
    "        u = u_max*(1 - (rho/rho_max)) \n",
    "    return u"
   ]
  },
  {
   "cell_type": "code",
   "execution_count": 37,
   "metadata": {},
   "outputs": [],
   "source": [
    "def flux(rho, u_max, rho_max):\n",
    "    for i in range(nx):\n",
    "        F = rho * velocity(rho_max, u_max, rho)\n",
    "    return F"
   ]
  },
  {
   "cell_type": "code",
   "execution_count": 42,
   "metadata": {},
   "outputs": [],
   "source": [
    "def ftbs(rho0, dt, dx, nt, rho_max, u_max):\n",
    "    rho_hist = [rho0.copy()]   #history of the traffic density\n",
    "    rho = rho0.copy()\n",
    "    for n in range(nt):\n",
    "        F = flux(rho, u_max, rho_max)\n",
    "        rho[1:] = rho[1:] - dt * (F[1:] - F[:-1]) / dx\n",
    "        \n",
    "        # Optional for loop in space. Do this instead of the line above\n",
    "        #for i in range(1,nx):\n",
    "            #rho[i] = rho[i] - dt * (F[i] - F[i - 1]) / dx\n",
    "            \n",
    "        rho_hist.append(rho.copy())\n",
    "    return rho_hist"
   ]
  },
  {
   "cell_type": "code",
   "execution_count": 73,
   "metadata": {},
   "outputs": [],
   "source": [
    "# Initialize Variables\n",
    "L = 4.0\n",
    "x_L = 2.0\n",
    "rho_L = 10.0\n",
    "rho_max = 10.0\n",
    "u_max = 1.0\n",
    "\n",
    "nx = 81\n",
    "nt = 30\n",
    "dx = x_L / nx\n",
    "sigma = 1.0\n",
    "dt = sigma * dx / u_max\n",
    "\n",
    "x = numpy.linspace(0,L,num=nx)\n",
    "rho0 = numpy.zeros(nx)\n",
    "rho = numpy.zeros((nt+1,nx))\n",
    "u = numpy.zeros(nx)\n",
    "F = numpy.zeros(nx)\n",
    "\n",
    "rho_hist = ftbs(rho0, dt, dx, nt, u_max, rho_max)"
   ]
  },
  {
   "cell_type": "code",
   "execution_count": 74,
   "metadata": {},
   "outputs": [],
   "source": [
    "def plot(n, x, rho_hist):\n",
    "    pyplot.figure()\n",
    "    pyplot.title('Time step: {}'.format(n))\n",
    "    pyplot.xlabel('Road')\n",
    "    pyplot.ylabel('Traffic density')\n",
    "    pyplot.plot(x, rho_hist[n])\n",
    "    pyplot.xlim(x[0],x[-1])\n",
    "    pyplot.ylim(-0.5, 11.0)\n",
    "    pyplot.show()"
   ]
  },
  {
   "cell_type": "code",
   "execution_count": 75,
   "metadata": {},
   "outputs": [],
   "source": [
    "import ipywidgets"
   ]
  },
  {
   "cell_type": "code",
   "execution_count": 76,
   "metadata": {},
   "outputs": [],
   "source": [
    "def interactive_plot(x, rho_hist):\n",
    "    nt = len(rho_hist) - 1\n",
    "    nt_slider = ipywidgets.IntSlider(value=0, min=0, max=nt, step=1, description='Time step')\n",
    "    w = ipywidgets.interactive(plot, n=nt_slider, x = ipywidgets.fixed(x), rho_hist=ipywidgets.fixed(rho_hist))\n",
    "    return w"
   ]
  },
  {
   "cell_type": "code",
   "execution_count": 77,
   "metadata": {},
   "outputs": [
    {
     "data": {
      "application/vnd.jupyter.widget-view+json": {
       "model_id": "eaff67f0e2f74b328da06fca33270877",
       "version_major": 2,
       "version_minor": 0
      },
      "text/plain": [
       "interactive(children=(IntSlider(value=0, description='Time step', max=30), Output()), _dom_classes=('widget-in…"
      ]
     },
     "metadata": {},
     "output_type": "display_data"
    }
   ],
   "source": [
    "interactive_plot(x, rho_hist)"
   ]
  },
  {
   "cell_type": "code",
   "execution_count": null,
   "metadata": {},
   "outputs": [],
   "source": []
  },
  {
   "cell_type": "code",
   "execution_count": null,
   "metadata": {},
   "outputs": [],
   "source": []
  }
 ],
 "metadata": {
  "kernelspec": {
   "display_name": "Python 3",
   "language": "python",
   "name": "python3"
  },
  "language_info": {
   "codemirror_mode": {
    "name": "ipython",
    "version": 3
   },
   "file_extension": ".py",
   "mimetype": "text/x-python",
   "name": "python",
   "nbconvert_exporter": "python",
   "pygments_lexer": "ipython3",
   "version": "3.7.3"
  }
 },
 "nbformat": 4,
 "nbformat_minor": 2
}
